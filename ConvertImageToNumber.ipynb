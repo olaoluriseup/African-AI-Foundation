# Import necessary libraries
import ipywidgets as widgets
from IPython.display import display
import matplotlib.pyplot as plt
from PIL import Image
import numpy as np

# Function to convert an image to a matrix of numbers
def image_to_matrix(image_path):
    # Open the image
    image = Image.open(image_path)
    # Convert the image to grayscale
    image_gray = image.convert('L')
    # Convert the grayscale image to a numpy array
    matrix = np.array(image_gray)
    return matrix

# Function to handle image selection and display
def on_file_upload(change):
    if change['type'] == 'change' and change['name'] == 'value':
        file_path = change['new']
        matrix = image_to_matrix(file_path)
        # Display the image
        plt.imshow(matrix, cmap='gray')
        plt.title('Image to Matrix')
        plt.axis('off')
        plt.show()

# Create a file upload widget
file_upload = widgets.FileUpload(accept='.png, .jpg, .jpeg', multiple=False)
file_upload.observe(on_file_upload)

# Display the file upload widget
display(file_upload)
